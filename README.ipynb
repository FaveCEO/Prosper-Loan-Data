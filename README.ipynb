{
 "cells": [
  {
   "cell_type": "markdown",
   "id": "29e20023",
   "metadata": {},
   "source": [
    "# Prosper Loan Data Exploration"
   ]
  },
  {
   "cell_type": "markdown",
   "id": "52fae8b6",
   "metadata": {},
   "source": [
    "## Dataset"
   ]
  },
  {
   "cell_type": "markdown",
   "id": "6733f61e",
   "metadata": {},
   "source": [
    "The dataset consists of information on loan request from <a href=\"https://www.prosper.com/\">Prosper.com</a>. Comprises 113,937 unique listings with 81 variables giving information about the borrower and the loan requested for. The dataset can be downloaded from <a href=\"https://www.google.com/url?q=https://s3.amazonaws.com/udacity-hosted-downloads/ud651/prosperLoanData.csv&sa=D&ust=1581581520570000\">here</a> or can be requested using Prosper API key with the data dictionary available <a href=\"https://www.google.com/url?q=https://s3.amazonaws.com/udacity-hosted-downloads/ud507/pisadict2012.csv&sa=D&ust=1554482573645000\">here.</a>\n",
    "\n",
    "For this analysis all 81 variables were not used but 38 variables were selected and 29,955 rows were dropped due to null values in the Prosper Rating column, an extra column(AnnualIncome) was added by multiplying values in MonthlyIncome by 12\n",
    "\n",
    "The variables used are;\n",
    "* ListingCreationDate\n",
    "* ListingCategory (numeric)\n",
    "* BorrowerState\n",
    "* Occupation\n",
    "* IsBorrowerHomeowner\n",
    "* EmploymentStatus\n",
    "* EmploymentStatusDuration\n",
    "* StatedMonthlyIncome\n",
    "* AnnnualIncome\n",
    "* IncomeRange\n",
    "* IncomeVerifiable\n",
    "* DebtToIncomeRatio\n",
    "* DateCreditPulled\n",
    "* CreditScoreRangeLower\n",
    "* CreditScoreRangeUpper\n",
    "* ProsperScore\n",
    "* ProsperRating (numeric)\n",
    "* ProsperRating (Alpha)\n",
    "* CurrentDelinquencies\n",
    "* AmountDelinquent\n",
    "* CurrentCreditLines \n",
    "* OpenCreditLines\n",
    "* OpenRevolvingMonthlyPayment\n",
    "* RevolvingCreditBalance     \n",
    "* LoanOriginationDate          \n",
    "* LoanOriginalAmount        \n",
    "* Term                         \n",
    "* MonthlyLoanPayment           \n",
    "* BorrowerRate                 \n",
    "* BorrowerAPR                  \n",
    "* EstimatedEffectiveYield      \n",
    "* EstimatedLoss                \n",
    "* EstimatedReturn            \n",
    "* LenderYield                  \n",
    "* Recommendations             \n",
    "* Investors                    \n",
    "* LoanStatus  \n",
    "* ClosedDate\n"
   ]
  },
  {
   "cell_type": "markdown",
   "id": "dfc5e723",
   "metadata": {},
   "source": [
    "## Summary of Findings"
   ]
  },
  {
   "cell_type": "markdown",
   "id": "3613b19f",
   "metadata": {},
   "source": [
    "In the exploration, I was very intersted in the Prosper Rating and what it affects and what also affects it.\n",
    "\n",
    "I found out that it is of added advantage for a Borrower to have a good Prosper Rating as it helps in the interest rate (the better the rating the lower the interest rate) and the number of investors willing to invest in a loan (more investors for better ratings). These ratings also determine how high a borrower can decide to borrow(most high loan amount are from those with good rating). \n",
    "\n",
    "In this analysis it shows the rating is affected by the amount of delinquent(good rating has low amount delinquent), current credit lines(good ratings have high current credit lines) and revolving credit balance(good ratings have high revolving credit balance) of the borrower, the annual income as those with high income have very good rating, the borrower being a home owner(most people who good ratings are home owners) and the debt to income ratio(lower for good ratings).\n",
    "\n",
    "Those with good rating are mostly seen to fall into the loan status category of Completed and Current\n",
    "\n",
    "Considering the information of the Borrower, I found out that California requests for loans alot but Washington DC though not requesting alot, request for the highest amount of loans and most of the loans requested for are for Debt consolidation. It is quite expected that the analysis shows that loan is mostly requested by the employed and those with high income range request for higher amount of loans as compared to those with lower income range.\n",
    "\n",
    "Other variables considered, the lender yield which is proportional to the interest rate and the monthly payment which increases with the loan amount. Also, the duration of the loan(Term) most times is higher with high amount of loan but with a lower interest rate and for this reason we also see that the number of investors reduce with an increase in the loan term."
   ]
  },
  {
   "cell_type": "markdown",
   "id": "ac92b67e",
   "metadata": {},
   "source": [
    "## Key Insights for Presentation"
   ]
  },
  {
   "cell_type": "markdown",
   "id": "d1fa45e6",
   "metadata": {},
   "source": [
    "For the presentation, my focus is on everything related to the rating like the benefit of having a good rating, what could help give a good rating. I have left out most of the intermediate derivations. \n",
    "\n",
    "I start by looking at the benefit, first of introducing the **loan amount** variable showing the distribution and then a lineplot to show the relationship. I move on to the **interest rate** variable showing the distribution of interest rate then use the violinplot to show how it is affected by prosper rating. Afterwards, I introduce the next variable which is the **investors**, I use boxplot to show how it affects the number of investors for a loan\n",
    "\n",
    "Then I look at what could bring about good/poor prosper rating using line plots to look at variables like **annual income**, **amount delinquent**, **current credit lines**, **revolving credit balance**, **is borrower home owner**, **debt to income ratio**"
   ]
  }
 ],
 "metadata": {
  "kernelspec": {
   "display_name": "Python 3",
   "language": "python",
   "name": "python3"
  },
  "language_info": {
   "codemirror_mode": {
    "name": "ipython",
    "version": 3
   },
   "file_extension": ".py",
   "mimetype": "text/x-python",
   "name": "python",
   "nbconvert_exporter": "python",
   "pygments_lexer": "ipython3",
   "version": "3.8.8"
  }
 },
 "nbformat": 4,
 "nbformat_minor": 5
}
